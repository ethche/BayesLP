{
 "cells": [
  {
   "cell_type": "markdown",
   "metadata": {},
   "source": [
    "### Load packages"
   ]
  },
  {
   "cell_type": "code",
   "execution_count": 8,
   "metadata": {},
   "outputs": [],
   "source": [
    "import bplp.solve as solve\n",
    "from bplp.BayesLP import BayesLP\n",
    "from bplp.plot import plot_joint_marginal\n",
    "import matplotlib.pyplot as plt\n",
    "import numpy as np\n",
    "from scipy.stats import norm"
   ]
  },
  {
   "cell_type": "markdown",
   "metadata": {},
   "source": [
    "### Setup the problem"
   ]
  },
  {
   "cell_type": "code",
   "execution_count": 9,
   "metadata": {},
   "outputs": [],
   "source": [
    "bp_program = BayesLP()\n",
    "\n",
    "# number of bins (resolution of the state and message space)\n",
    "bp_program.n = 100\n",
    "\n",
    "# state and message type space (unit interval)\n",
    "bp_program.interval = [0, 1]\n",
    "\n",
    "# receiver's utility function\n",
    "bp_program.u = lambda s, r: s - r\n",
    "\n",
    "# pdf of receiver's type conditional on state s\n",
    "bp_program.g = lambda s, r: 1\n",
    "\n",
    "# prior distribution of s\n",
    "bp_program.prior = lambda s: norm.pdf(s - 0.5)\n",
    "\n",
    "# sender's expected utility function\n",
    "bp_program.v = lambda s, m: np.sqrt(m)"
   ]
  },
  {
   "cell_type": "markdown",
   "metadata": {},
   "source": [
    "### Solve for the primal"
   ]
  },
  {
   "cell_type": "code",
   "execution_count": 10,
   "metadata": {},
   "outputs": [],
   "source": [
    "primal = solve.bayes_primal(bp_program)"
   ]
  },
  {
   "cell_type": "code",
   "execution_count": 11,
   "metadata": {},
   "outputs": [],
   "source": [
    "# Extract results\n",
    "mechanism = primal[\"mechanism\"]\n",
    "prior = primal[\"prior\"]\n",
    "ic = primal[\"ic_constraint\"]\n",
    "value_mat = primal[\"value_mat\"]"
   ]
  },
  {
   "cell_type": "code",
   "execution_count": 12,
   "metadata": {},
   "outputs": [
    {
     "name": "stdout",
     "output_type": "stream",
     "text": [
      "Total expected utility for the sender is: 0.7070977625729108\n"
     ]
    }
   ],
   "source": [
    "# Calculate sender's expected utility from the mechanism\n",
    "n = bp_program.n\n",
    "value_vec = value_mat.reshape((n**2))\n",
    "mechanism_vec = mechanism.reshape((n**2))\n",
    "\n",
    "total_utility = np.dot(value_vec, mechanism_vec)\n",
    "print(\"Total expected utility for the sender is: \" + str(total_utility))"
   ]
  },
  {
   "cell_type": "markdown",
   "metadata": {},
   "source": [
    "### Plot mechanism"
   ]
  },
  {
   "cell_type": "code",
   "execution_count": 13,
   "metadata": {
    "scrolled": true
   },
   "outputs": [
    {
     "data": {
      "image/png": "[encoded data removed]",
      "text/plain": [
       "<Figure size 432x288 with 3 Axes>"
      ]
     },
     "metadata": {
      "needs_background": "light"
     },
     "output_type": "display_data"
    }
   ],
   "source": [
    "joint_marginal = plot_joint_marginal(bp_program, prior, ic, mechanism)"
   ]
  },
  {
   "cell_type": "markdown",
   "metadata": {},
   "source": [
    "### Solve for the dual"
   ]
  },
  {
   "cell_type": "code",
   "execution_count": null,
   "metadata": {},
   "outputs": [],
   "source": []
  }
 ],
 "metadata": {
  "kernelspec": {
   "display_name": "Python 3",
   "language": "python",
   "name": "python3"
  },
  "language_info": {
   "codemirror_mode": {
    "name": "ipython",
    "version": 3
   },
   "file_extension": ".py",
   "mimetype": "text/x-python",
   "name": "python",
   "nbconvert_exporter": "python",
   "pygments_lexer": "ipython3",
   "version": "3.7.3"
  }
 },
 "nbformat": 4,
 "nbformat_minor": 2
}
