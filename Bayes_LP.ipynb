{
 "cells": [
  {
   "cell_type": "markdown",
   "metadata": {},
   "source": [
    "# Introduction\n",
    "\n",
    "The communication game of Kolotilin (2018) is as follows. A sender chooses an information mechanism $\\mu(m,s)$, which is a joint distribution between states $s \\in S=[\\underline{s},\\bar{s}]$ and messages $m \\in M =[\\underline{m},\\bar{m}]$, in order to convince a receiver to perform some binary action $a = \\{0,1\\}$. The sender receives payoff $v(m,s)\\in C(M \\times X)$ if $a = 1$ and $0$ otherwise. The information mechanism is transparent to the receiver, and the sender cannot manipulate realizations of the mechanism.\n",
    "\n",
    "The sender and receiver have a common prior belief $F(s)$. The receiver also has access to a private signal $G(r|s)$, which is hidden from the sender (which has message realizations in $R=[0,1]$). The receiver uses Bayes' rule from the realization of the sender's signal and the private signal to infer the state, and chooses the action that will maximize their utility $u(r,s)\\in C^{1}(R \\times S)$ (when $a = 1$ and $0$ otherwise). \n",
    "\n",
    "Due to a single-crossing assumption on the receiver's utility function (please see the paper for more details) and by the revelation principle, it is without loss to consider mechanisms which produce \"cutoff recommendations\". For such mechanisms, a message realization $m$ induces a cutoff $m$ for the realization of the private signal, above which the receiver takes an action. These mechanisms involve an incentive compatibility constraint, which requires that the receiver cannot be made worse off if they follow the sender's advice.\n",
    "\n",
    "The timing of the game is as follows:\n",
    "1. Sender publicly chooses mechanism $\\mu(m, s)$.\n",
    "2. (m,s,r) are drawn according to $\\mu$ and private signal $G$.\n",
    "3. The receiver observes $(m,r)$ and takes some action $a$.\n",
    "\n",
    "Please see the paper (or the slides in this repository) for more information.\n",
    "\n",
    "The sender's problem is to choose an information mechanism between states and messages to maximize their expected utility, subject to (1) a Bayes-plausibility constraint, which requires that the marginal distribution of $\\mu$ on the state space is equal to the prior and (2) a incentive-compatibility constraint, which requires that the receiver cannot be made worse off from following the sender's cutoff recommendation. The problem is:\n",
    "\n",
    "\\begin{align*}\n",
    "\\sup_{\\mathcal{\\mu\\in P}(M^{*}\\times S)} & \\int_{M^{*}\\times S}V(m,s)d\\mu\\\\\n",
    "\\text{s.t.} & \\int_{M^{*}\\times\\hat{S}}d\\mu=\\int_{\\hat{S}}dF,\\ \\forall\\hat{S}\\in\\Sigma_{S}\\\\\n",
    " & \\int_{\\hat{M}\\times S}u(r,s)g(r|s)d\\mu=0,\\ \\forall\\hat{M}\\in\\Sigma_{M^{*}}\n",
    "\\end{align*}\n",
    "\n",
    "$V(m,s)$ is the sender's expected utility across message and state realizations, and $M^*$ is the set of feasible cutoff recommendations. This notebook solves a discretization of this program, with $n$ states and $n$ messages. Note that this is almost analogous to the standard optimal transport problem, except that the incentive compatibility constraint on the message realizations is not quite a projection on the message space."
   ]
  },
  {
   "cell_type": "markdown",
   "metadata": {},
   "source": [
    "# Load packages"
   ]
  },
  {
   "cell_type": "code",
   "execution_count": 1,
   "metadata": {},
   "outputs": [],
   "source": [
    "import bplp.solve as solve\n",
    "from bplp.BayesLP import BayesLP\n",
    "from bplp.plot import plot_primal_joint_marginal\n",
    "import matplotlib.pyplot as plt\n",
    "import numpy as np\n",
    "from scipy.stats import norm"
   ]
  },
  {
   "cell_type": "markdown",
   "metadata": {},
   "source": [
    "# Setup the problem\n",
    "\n",
    "The following are the main elements that define the problem:\n",
    "* Receiver's utility function: $u(r,s)\\in C^{1}(R \\times S)$\n",
    "* Sender's utility function: $v(m,s)\\in C(M \\times X)$\n",
    "* Probability density of the receiver's private information: $G(r|s)$ with continuous density $g(r|s)$\n",
    "* Probability density of the prior distribution: $F(s)$"
   ]
  },
  {
   "cell_type": "code",
   "execution_count": 12,
   "metadata": {},
   "outputs": [],
   "source": [
    "bp_program = BayesLP()\n",
    "\n",
    "# number of bins (resolution of the state and message space)\n",
    "bp_program.n_grid = 100\n",
    "\n",
    "# state and message type space (unit interval)\n",
    "bp_program.interval = [0, 1]\n",
    "\n",
    "# receiver's utility function\n",
    "bp_program.receiver_util = lambda s, r: s - r\n",
    "\n",
    "# pdf of receiver's type conditional on state s\n",
    "bp_program.private_info = lambda s, r: 1\n",
    "\n",
    "# prior distribution of s\n",
    "bp_program.prior = lambda s: norm.pdf(s - 0.5)\n",
    "\n",
    "# sender's expected utility function\n",
    "bp_program.sender_util = lambda s, m: s**2 + 1"
   ]
  },
  {
   "cell_type": "markdown",
   "metadata": {},
   "source": [
    "# Solve for the primal solution\n",
    "\n",
    "We now solve for the primal solution $\\mu(m_i, s_i)$ of the following discretization of the optimal transport problem:\n",
    "\n",
    "\\begin{align*}\n",
    "\\sup_{\\mathcal{\\mu\\in P}(M^{*}\\times S)} & \\sum_{m_i \\in M^*} \\sum_{s_i \\in S} V(m_i,s_i) \\cdot \\mu(m_i,s_i)\\\\\n",
    "\\text{s.t.} & \\sum_{m_i \\in M^*} \\mu(m_i,s_i) = F(s_i),\\ \\forall s_i \\in S \\\\\n",
    " & \\sum_{s_i \\in S} u(m_i,s)g(m_i|s)d\\mu=0,\\ \\forall m_i \\in M^*\n",
    "\\end{align*}\n",
    "\n",
    "We reshape the objects in this problem to be $n \\times n$ vectors and use the linear programming tool in scipy.optimize to find the optimal transportation plan. This means that the compute time grows rapidly with $n$. We are currently working on adapting the network simplex algorithm to this problem to increase performance."
   ]
  },
  {
   "cell_type": "code",
   "execution_count": 13,
   "metadata": {},
   "outputs": [],
   "source": [
    "solution = solve.bayes_lp_solver(bp_program)"
   ]
  },
  {
   "cell_type": "code",
   "execution_count": 14,
   "metadata": {},
   "outputs": [],
   "source": [
    "# Extract results\n",
    "n = solution[\"n_grid\"]\n",
    "mechanism = solution[\"mechanism\"]\n",
    "prior = solution[\"prior_constraint\"]\n",
    "ic = solution[\"ic_constraint\"]\n",
    "value_mat = solution[\"value_mat\"]"
   ]
  },
  {
   "cell_type": "code",
   "execution_count": 15,
   "metadata": {},
   "outputs": [
    {
     "name": "stdout",
     "output_type": "stream",
     "text": [
      "Total expected utility for the sender is: 1.3321621834849124\n"
     ]
    }
   ],
   "source": [
    "# Calculate sender's expected utility from the mechanism\n",
    "value_vec = value_mat.reshape((n**2))\n",
    "mechanism_vec = mechanism.reshape((n**2))\n",
    "\n",
    "total_utility = np.dot(value_vec, mechanism_vec)\n",
    "print(\"Total expected utility for the sender is: \" + str(total_utility))"
   ]
  },
  {
   "cell_type": "markdown",
   "metadata": {},
   "source": [
    "# Plot information mechanism\n",
    "\n",
    "We plot the optimal information mechanism $\\mu(m,s)$. The left panel details the prior distribution over states $F(s)$. The top panel is flat at 0, which describes the receiver's incentive compatibility constraint (for any message realization). The center panel is a heatmap describing the joint distribution between states (on the left) and messages (top)."
   ]
  },
  {
   "cell_type": "code",
   "execution_count": 16,
   "metadata": {
    "scrolled": true
   },
   "outputs": [
    {
     "data": {
      "image/png": "[encoded data removed]",
      "text/plain": [
       "<Figure size 432x288 with 3 Axes>"
      ]
     },
     "metadata": {
      "needs_background": "light"
     },
     "output_type": "display_data"
    }
   ],
   "source": [
    "joint_marginal = plot_primal_joint_marginal(solution)"
   ]
  },
  {
   "cell_type": "markdown",
   "metadata": {},
   "source": [
    "# Plot dual solutions\n",
    "\n",
    "Since the sender's problem is a linear program, we can describe the dual. Due to the topological assumptions of Kolotilin and the existence of interior points of the primal cone, there is no duality gap.\n",
    "\n",
    "The dual of the problem is as follows. $p\\in C(S)$, the set of continuous functions on $S$ and $q \\in C(M^*)$, the set of continuous functions on $M^*$.\n",
    "\n",
    "\\begin{align*}\n",
    "\\inf_{p\\in C(S)} & \\int_{S}p(s)dF\\\\\n",
    "\\text{s.t. } & p(s)+q(m)u(m,s)g(m|s)\\geq V(m,s)\\\\\n",
    " & \\forall m\\in M^{*},s\\in S\n",
    "\\end{align*}"
   ]
  },
  {
   "cell_type": "code",
   "execution_count": null,
   "metadata": {},
   "outputs": [],
   "source": []
  }
 ],
 "metadata": {
  "kernelspec": {
   "display_name": "Python 3",
   "language": "python",
   "name": "python3"
  },
  "language_info": {
   "codemirror_mode": {
    "name": "ipython",
    "version": 3
   },
   "file_extension": ".py",
   "mimetype": "text/x-python",
   "name": "python",
   "nbconvert_exporter": "python",
   "pygments_lexer": "ipython3",
   "version": "3.7.3"
  }
 },
 "nbformat": 4,
 "nbformat_minor": 2
}
